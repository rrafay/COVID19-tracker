{
  "nbformat": 4,
  "nbformat_minor": 0,
  "metadata": {
    "colab": {
      "name": "corona2.ipynb",
      "provenance": [],
      "collapsed_sections": []
    },
    "kernelspec": {
      "name": "python3",
      "display_name": "Python 3"
    }
  },
  "cells": [
    {
      "cell_type": "code",
      "metadata": {
        "id": "toeuHc_3WKcy",
        "colab_type": "code",
        "colab": {}
      },
      "source": [
        "import pandas as pd\n",
        "import datetime\n",
        "import matplotlib.pyplot as plt\n",
        "import matplotlib.dates as mdates"
      ],
      "execution_count": 0,
      "outputs": []
    },
    {
      "cell_type": "code",
      "metadata": {
        "id": "djOLk5WQWY6k",
        "colab_type": "code",
        "colab": {}
      },
      "source": [
        "url = 'https://github.com/nytimes/covid-19-data/raw/master/us-states.csv'"
      ],
      "execution_count": 0,
      "outputs": []
    },
    {
      "cell_type": "code",
      "metadata": {
        "id": "8UY2uWN7fMbZ",
        "colab_type": "code",
        "outputId": "d964cacd-21e5-46f4-92d4-0eb592007917",
        "colab": {
          "base_uri": "https://localhost:8080/",
          "height": 406
        }
      },
      "source": [
        "data = pd.read_csv(url)\n",
        "data = data[data['state'] == 'Massachusetts']\n",
        "data"
      ],
      "execution_count": 56,
      "outputs": [
        {
          "output_type": "execute_result",
          "data": {
            "text/html": [
              "<div>\n",
              "<style scoped>\n",
              "    .dataframe tbody tr th:only-of-type {\n",
              "        vertical-align: middle;\n",
              "    }\n",
              "\n",
              "    .dataframe tbody tr th {\n",
              "        vertical-align: top;\n",
              "    }\n",
              "\n",
              "    .dataframe thead th {\n",
              "        text-align: right;\n",
              "    }\n",
              "</style>\n",
              "<table border=\"1\" class=\"dataframe\">\n",
              "  <thead>\n",
              "    <tr style=\"text-align: right;\">\n",
              "      <th></th>\n",
              "      <th>date</th>\n",
              "      <th>state</th>\n",
              "      <th>fips</th>\n",
              "      <th>cases</th>\n",
              "      <th>deaths</th>\n",
              "    </tr>\n",
              "  </thead>\n",
              "  <tbody>\n",
              "    <tr>\n",
              "      <th>35</th>\n",
              "      <td>2020-02-01</td>\n",
              "      <td>Massachusetts</td>\n",
              "      <td>25</td>\n",
              "      <td>1</td>\n",
              "      <td>0</td>\n",
              "    </tr>\n",
              "    <tr>\n",
              "      <th>40</th>\n",
              "      <td>2020-02-02</td>\n",
              "      <td>Massachusetts</td>\n",
              "      <td>25</td>\n",
              "      <td>1</td>\n",
              "      <td>0</td>\n",
              "    </tr>\n",
              "    <tr>\n",
              "      <th>45</th>\n",
              "      <td>2020-02-03</td>\n",
              "      <td>Massachusetts</td>\n",
              "      <td>25</td>\n",
              "      <td>1</td>\n",
              "      <td>0</td>\n",
              "    </tr>\n",
              "    <tr>\n",
              "      <th>50</th>\n",
              "      <td>2020-02-04</td>\n",
              "      <td>Massachusetts</td>\n",
              "      <td>25</td>\n",
              "      <td>1</td>\n",
              "      <td>0</td>\n",
              "    </tr>\n",
              "    <tr>\n",
              "      <th>55</th>\n",
              "      <td>2020-02-05</td>\n",
              "      <td>Massachusetts</td>\n",
              "      <td>25</td>\n",
              "      <td>1</td>\n",
              "      <td>0</td>\n",
              "    </tr>\n",
              "    <tr>\n",
              "      <th>...</th>\n",
              "      <td>...</td>\n",
              "      <td>...</td>\n",
              "      <td>...</td>\n",
              "      <td>...</td>\n",
              "      <td>...</td>\n",
              "    </tr>\n",
              "    <tr>\n",
              "      <th>4491</th>\n",
              "      <td>2020-05-23</td>\n",
              "      <td>Massachusetts</td>\n",
              "      <td>25</td>\n",
              "      <td>91662</td>\n",
              "      <td>6304</td>\n",
              "    </tr>\n",
              "    <tr>\n",
              "      <th>4546</th>\n",
              "      <td>2020-05-24</td>\n",
              "      <td>Massachusetts</td>\n",
              "      <td>25</td>\n",
              "      <td>92675</td>\n",
              "      <td>6372</td>\n",
              "    </tr>\n",
              "    <tr>\n",
              "      <th>4601</th>\n",
              "      <td>2020-05-25</td>\n",
              "      <td>Massachusetts</td>\n",
              "      <td>25</td>\n",
              "      <td>93271</td>\n",
              "      <td>6416</td>\n",
              "    </tr>\n",
              "    <tr>\n",
              "      <th>4656</th>\n",
              "      <td>2020-05-26</td>\n",
              "      <td>Massachusetts</td>\n",
              "      <td>25</td>\n",
              "      <td>93693</td>\n",
              "      <td>6473</td>\n",
              "    </tr>\n",
              "    <tr>\n",
              "      <th>4711</th>\n",
              "      <td>2020-05-27</td>\n",
              "      <td>Massachusetts</td>\n",
              "      <td>25</td>\n",
              "      <td>94220</td>\n",
              "      <td>6547</td>\n",
              "    </tr>\n",
              "  </tbody>\n",
              "</table>\n",
              "<p>117 rows × 5 columns</p>\n",
              "</div>"
            ],
            "text/plain": [
              "            date          state  fips  cases  deaths\n",
              "35    2020-02-01  Massachusetts    25      1       0\n",
              "40    2020-02-02  Massachusetts    25      1       0\n",
              "45    2020-02-03  Massachusetts    25      1       0\n",
              "50    2020-02-04  Massachusetts    25      1       0\n",
              "55    2020-02-05  Massachusetts    25      1       0\n",
              "...          ...            ...   ...    ...     ...\n",
              "4491  2020-05-23  Massachusetts    25  91662    6304\n",
              "4546  2020-05-24  Massachusetts    25  92675    6372\n",
              "4601  2020-05-25  Massachusetts    25  93271    6416\n",
              "4656  2020-05-26  Massachusetts    25  93693    6473\n",
              "4711  2020-05-27  Massachusetts    25  94220    6547\n",
              "\n",
              "[117 rows x 5 columns]"
            ]
          },
          "metadata": {
            "tags": []
          },
          "execution_count": 56
        }
      ]
    },
    {
      "cell_type": "code",
      "metadata": {
        "id": "mzlp13IWWkZ4",
        "colab_type": "code",
        "colab": {}
      },
      "source": [
        "dates = data['date']\n",
        "x = pd.to_datetime(dates)\n",
        "y = data['cases']"
      ],
      "execution_count": 0,
      "outputs": []
    },
    {
      "cell_type": "code",
      "metadata": {
        "id": "_Hc6OzQgC2Q6",
        "colab_type": "code",
        "colab": {}
      },
      "source": [
        "DF = pd.DataFrame()\n",
        "DF['cases'] = y\n",
        "DF = DF.set_index(x)\n"
      ],
      "execution_count": 0,
      "outputs": []
    },
    {
      "cell_type": "code",
      "metadata": {
        "id": "6603ITBWDRel",
        "colab_type": "code",
        "outputId": "4980932e-6705-44cd-fe17-0a6ad96aae27",
        "colab": {
          "base_uri": "https://localhost:8080/",
          "height": 810
        }
      },
      "source": [
        "\n",
        "fig, ax = plt.subplots()\n",
        "fig.subplots_adjust(bottom=0.1)\n",
        "\n",
        "\n",
        "plt.xticks(rotation=90)\n",
        "plt.figure(figsize=(25,10))\n",
        "plt.plot(DF)\n",
        "\n",
        "\n"
      ],
      "execution_count": 77,
      "outputs": [
        {
          "output_type": "execute_result",
          "data": {
            "text/plain": [
              "[<matplotlib.lines.Line2D at 0x7f0f458ca978>]"
            ]
          },
          "metadata": {
            "tags": []
          },
          "execution_count": 77
        },
        {
          "output_type": "display_data",
          "data": {
            "image/png": "[encoded data removed]",
            "text/plain": [
              "<Figure size 432x288 with 1 Axes>"
            ]
          },
          "metadata": {
            "tags": [],
            "needs_background": "light"
          }
        },
        {
          "output_type": "display_data",
          "data": {
            "image/png": "[encoded data removed]",
            "text/plain": [
              "<Figure size 1800x720 with 1 Axes>"
            ]
          },
          "metadata": {
            "tags": [],
            "needs_background": "light"
          }
        }
      ]
    },
    {
      "cell_type": "code",
      "metadata": {
        "id": "KR4JfrWhYLCD",
        "colab_type": "code",
        "colab": {}
      },
      "source": [
        "#plt.plot(x,y)\n",
        "#fig = plt.figure(figsize=(20,10))\n",
        "#ax = fig.add_subplot(111)\n",
        "#plt.scatter(x, y)\n"
      ],
      "execution_count": 0,
      "outputs": []
    },
    {
      "cell_type": "code",
      "metadata": {
        "id": "Jydy99dxDQVb",
        "colab_type": "code",
        "colab": {}
      },
      "source": [
        ""
      ],
      "execution_count": 0,
      "outputs": []
    },
    {
      "cell_type": "code",
      "metadata": {
        "id": "RndxaZtFWpkP",
        "colab_type": "code",
        "colab": {}
      },
      "source": [
        ""
      ],
      "execution_count": 0,
      "outputs": []
    },
    {
      "cell_type": "code",
      "metadata": {
        "id": "KKGjSaJ6WwU2",
        "colab_type": "code",
        "colab": {}
      },
      "source": [
        ""
      ],
      "execution_count": 0,
      "outputs": []
    },
    {
      "cell_type": "code",
      "metadata": {
        "id": "ah1gcsiKYZjp",
        "colab_type": "code",
        "colab": {}
      },
      "source": [
        ""
      ],
      "execution_count": 0,
      "outputs": []
    },
    {
      "cell_type": "code",
      "metadata": {
        "id": "Q3ohHhP6ccGD",
        "colab_type": "code",
        "colab": {}
      },
      "source": [
        ""
      ],
      "execution_count": 0,
      "outputs": []
    }
  ]
}